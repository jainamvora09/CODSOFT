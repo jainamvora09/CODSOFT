{
 "cells": [
  {
   "cell_type": "code",
   "execution_count": 1,
   "id": "c279573d",
   "metadata": {},
   "outputs": [
    {
     "name": "stdout",
     "output_type": "stream",
     "text": [
      "Tasks:\n",
      "my first list\n",
      "my secind list\n"
     ]
    }
   ],
   "source": [
    "import tkinter as tk\n",
    "from tkinter import *\n",
    "\n",
    "def add_task():\n",
    "    task = entry.get()\n",
    "    if task:\n",
    "        listbox.insert(tk.END, task)\n",
    "        entry.delete(0, tk.END)\n",
    "    else:\n",
    "        messagebox.showwarning(\"Warning\", \"Please enter a task.\")\n",
    "\n",
    "def remove_task():\n",
    "    try:\n",
    "        selected_index = listbox.curselection()[0]\n",
    "        listbox.delete(selected_index)\n",
    "    except IndexError:\n",
    "        messagebox.showwarning(\"Warning\", \"Please select a task to remove.\")\n",
    "\n",
    "def mark_completed():\n",
    "    try:\n",
    "        selected_index = listbox.curselection()[0]\n",
    "        listbox.itemconfig(selected_index, {'bg': 'light blue'})\n",
    "    except IndexError:\n",
    "        messagebox.showwarning(\"Warning\", \"Please select a task to mark as completed.\")\n",
    "\n",
    "def print_tasks():\n",
    "    tasks = listbox.get(0, tk.END)\n",
    "    print(\"Tasks:\")\n",
    "    for task in tasks:\n",
    "        print(task)\n",
    "\n",
    "root = tk.Tk()\n",
    "root.title(\"To-Do List\")\n",
    "\n",
    "frame = tk.Frame(root)\n",
    "frame.pack(pady=10)\n",
    "\n",
    "entry = tk.Entry(frame, width=40)\n",
    "entry.grid(row=0, column=0, padx=5)\n",
    "\n",
    "add_button = tk.Button(frame, text=\"Add Task\", width=10, command=add_task)\n",
    "add_button.grid(row=0, column=1, padx=5)\n",
    "\n",
    "remove_button = tk.Button(frame, text=\"Remove Task\", width=12, command=remove_task)\n",
    "remove_button.grid(row=0, column=2, padx=5)\n",
    "\n",
    "mark_completed_button = tk.Button(frame, text=\"Mark Completed\", width=15, command=mark_completed)\n",
    "mark_completed_button.grid(row=0, column=3, padx=5)\n",
    "\n",
    "print_button = tk.Button(frame, text=\"Print Tasks\", width=10, command=print_tasks)\n",
    "print_button.grid(row=0, column=4, padx=5)\n",
    "\n",
    "listbox = tk.Listbox(root, width=50)\n",
    "listbox.pack(pady=10)\n",
    "\n",
    "root.mainloop()\n"
   ]
  }
 ],
 "metadata": {
  "kernelspec": {
   "display_name": "Python 3 (ipykernel)",
   "language": "python",
   "name": "python3"
  },
  "language_info": {
   "codemirror_mode": {
    "name": "ipython",
    "version": 3
   },
   "file_extension": ".py",
   "mimetype": "text/x-python",
   "name": "python",
   "nbconvert_exporter": "python",
   "pygments_lexer": "ipython3",
   "version": "3.11.4"
  }
 },
 "nbformat": 4,
 "nbformat_minor": 5
}
